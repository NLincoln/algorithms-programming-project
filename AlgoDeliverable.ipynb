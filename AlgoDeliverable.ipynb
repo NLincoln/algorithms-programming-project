{
 "cells": [
  {
   "cell_type": "markdown",
   "metadata": {},
   "source": [
    "## Algorithms programming assignment\n",
    "\n",
    "This is my solution to the programming assignment located here: http://web.mst.edu/~guozh/CS2500/HWs/HW_prog.pdf"
   ]
  },
  {
   "cell_type": "markdown",
   "metadata": {},
   "source": [
    "### Plain English\n",
    "\n",
    "First of all, we don't need to consider the entire row of coins when evaluating which side to choose, only the two outermost coins on each side. \n",
    "\n",
    "The side-picking algorithm finds the maximum value in the outermost coins it's considering. If this maximum value is on the outside of the row, then we simply select the side that the coin is on. Otherwise, we select the other side, so as to \"block\" the other player from being able to access it."
   ]
  },
  {
   "cell_type": "markdown",
   "metadata": {},
   "source": [
    "### Pseudocode\n",
    "![My Pseudocode](Pseudocode.png \"Pseudocode\")"
   ]
  },
  {
   "cell_type": "markdown",
   "metadata": {},
   "source": [
    "### Implementation\n",
    "I implemented the algorithm in Python, which was the language I believe suited my solution best. List slicing semantics helped immensely"
   ]
  },
  {
   "cell_type": "code",
   "execution_count": 1,
   "metadata": {
    "collapsed": true
   },
   "outputs": [],
   "source": [
    "def choose_side(left, right):\n",
    "    if len(left) == 1 or len(right) == 1:\n",
    "        return 'left'\n",
    "    max_ = max(max(left), max(right))\n",
    "    comp_elem = left[0] if max_ in left else right[1]\n",
    "    return 'left' if max_ == comp_elem else 'right'\n",
    "\n",
    "def pick_side(side, row):\n",
    "    if side == 'right':\n",
    "        return row[-1], row[:-1]\n",
    "    else:\n",
    "        return row[0], row[1:]\n",
    "    \n",
    "def player_turn(player, row):\n",
    "    left_side = row[:2]\n",
    "    right_side = row[-2:][::-1]\n",
    "\n",
    "    side = choose_side(left_side, right_side)\n",
    "    picked_number, row = pick_side(side, row)\n",
    "    return player + [picked_number], row\n",
    "\n",
    "def simulate(board):\n",
    "    player_1 = []\n",
    "    player_2 = []\n",
    "\n",
    "    while board:\n",
    "        player_1, board = player_turn(player_1, board)\n",
    "        player_2, board = player_turn(player_2, board)\n",
    "    return player_1, player_2"
   ]
  },
  {
   "cell_type": "code",
   "execution_count": 2,
   "metadata": {
    "collapsed": false
   },
   "outputs": [],
   "source": [
    "def run_test(board):\n",
    "    player_1, player_2 = simulate(board)\n",
    "    print(\"Player 1 picked {picked}, with a score of {sum_}.\".format(picked=player_1, sum_=sum(player_1)))"
   ]
  },
  {
   "cell_type": "code",
   "execution_count": 3,
   "metadata": {
    "collapsed": false
   },
   "outputs": [
    {
     "name": "stdout",
     "output_type": "stream",
     "text": [
      "Player 1 picked [7, 15], with a score of 22.\n"
     ]
    }
   ],
   "source": [
    "run_test([8, 15, 3, 7])"
   ]
  },
  {
   "cell_type": "code",
   "execution_count": 4,
   "metadata": {
    "collapsed": false
   },
   "outputs": [
    {
     "name": "stdout",
     "output_type": "stream",
     "text": [
      "Player 1 picked [2, 2], with a score of 4.\n"
     ]
    }
   ],
   "source": [
    "run_test([2, 2, 2, 2])"
   ]
  },
  {
   "cell_type": "code",
   "execution_count": 5,
   "metadata": {
    "collapsed": false
   },
   "outputs": [
    {
     "name": "stdout",
     "output_type": "stream",
     "text": [
      "Player 1 picked [10, 2, 30], with a score of 42.\n"
     ]
    }
   ],
   "source": [
    "run_test([20, 30, 2, 2, 2, 10])"
   ]
  },
  {
   "cell_type": "code",
   "execution_count": 6,
   "metadata": {
    "collapsed": false
   },
   "outputs": [
    {
     "name": "stdout",
     "output_type": "stream",
     "text": [
      "Player 1 picked [8], with a score of 8.\n"
     ]
    }
   ],
   "source": [
    "run_test([7, 8])"
   ]
  },
  {
   "cell_type": "code",
   "execution_count": 7,
   "metadata": {
    "collapsed": false
   },
   "outputs": [
    {
     "name": "stdout",
     "output_type": "stream",
     "text": [
      "Player 1 picked [90, 15, 1, 10, 2, 30], with a score of 148.\n"
     ]
    }
   ],
   "source": [
    "run_test([20, 30, 2, 2, 2, 10, 13, 1, 7, 15, 17, 90])"
   ]
  }
 ],
 "metadata": {
  "kernelspec": {
   "display_name": "Python 3",
   "language": "python",
   "name": "python3"
  },
  "language_info": {
   "codemirror_mode": {
    "name": "ipython",
    "version": 3
   },
   "file_extension": ".py",
   "mimetype": "text/x-python",
   "name": "python",
   "nbconvert_exporter": "python",
   "pygments_lexer": "ipython3",
   "version": "3.5.2"
  }
 },
 "nbformat": 4,
 "nbformat_minor": 1
}
